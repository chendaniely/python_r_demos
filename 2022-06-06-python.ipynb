{
 "cells": [
  {
   "cell_type": "code",
   "execution_count": 1,
   "id": "5e716104-922f-496a-b8b2-bb0785b6b15e",
   "metadata": {},
   "outputs": [],
   "source": [
    "import pandas as pd"
   ]
  },
  {
   "cell_type": "code",
   "execution_count": 2,
   "id": "b1fabf2e-5ea6-4e97-af90-f28c5058c70a",
   "metadata": {},
   "outputs": [],
   "source": [
    "import seaborn as sns"
   ]
  },
  {
   "cell_type": "code",
   "execution_count": 4,
   "id": "5df979f2-d3f7-45c3-9e5e-75d9b0a3dadd",
   "metadata": {},
   "outputs": [],
   "source": [
    "\n",
    "\n",
    "cmv = pd.read_excel(\"data/cmv.xlsx\")\n",
    "cmv_tidy = cmv.melt(id_vars = [\"ID\", \"age\", \"prior.radiation\", \"aKIRs\", \"cmv\"],\n",
    "         var_name = \"donor_status\",\n",
    "         value_name = \"recipient_status\")\n",
    "\n",
    "\n"
   ]
  },
  {
   "cell_type": "code",
   "execution_count": 5,
   "id": "bb3f379b-5a53-4cec-ba17-5627069dffa1",
   "metadata": {},
   "outputs": [
    {
     "data": {
      "text/plain": [
       "<AxesSubplot:xlabel='age', ylabel='Count'>"
      ]
     },
     "execution_count": 5,
     "metadata": {},
     "output_type": "execute_result"
    },
    {
     "data": {
      "image/png": "[encoded data removed]",
      "text/plain": [
       "<Figure size 432x288 with 1 Axes>"
      ]
     },
     "metadata": {
      "needs_background": "light"
     },
     "output_type": "display_data"
    }
   ],
   "source": [
    "sns.histplot(data=cmv_tidy, x=\"age\")"
   ]
  },
  {
   "cell_type": "code",
   "execution_count": 6,
   "id": "24434c98-3f8d-4829-8fd3-eef895e6fa9a",
   "metadata": {},
   "outputs": [],
   "source": [
    "import statsmodels.formula.api as smf"
   ]
  },
  {
   "cell_type": "code",
   "execution_count": 9,
   "id": "9d486f57-2b19-4bbd-86a0-43a6546706df",
   "metadata": {},
   "outputs": [],
   "source": [
    "mod = smf.logit(formula=\"cmv ~ age + donor_status\",\n",
    "         data=cmv_tidy)"
   ]
  },
  {
   "cell_type": "code",
   "execution_count": 10,
   "id": "349054f2-9e88-4a1d-aebc-4f360253e016",
   "metadata": {},
   "outputs": [
    {
     "data": {
      "text/plain": [
       "<statsmodels.discrete.discrete_model.Logit at 0x7fb5b56f7890>"
      ]
     },
     "execution_count": 10,
     "metadata": {},
     "output_type": "execute_result"
    }
   ],
   "source": [
    "mod"
   ]
  },
  {
   "cell_type": "code",
   "execution_count": 12,
   "id": "e47f8cc4-d0cd-4c1d-8ecc-6c08b9f5a16a",
   "metadata": {},
   "outputs": [
    {
     "name": "stdout",
     "output_type": "stream",
     "text": [
      "Optimization terminated successfully.\n",
      "         Current function value: 0.672435\n",
      "         Iterations 4\n"
     ]
    }
   ],
   "source": [
    "mod = mod.fit()"
   ]
  },
  {
   "cell_type": "code",
   "execution_count": 13,
   "id": "957c0355-1eba-4a4d-b45b-b7e9c03f4599",
   "metadata": {},
   "outputs": [
    {
     "data": {
      "text/html": [
       "<table class=\"simpletable\">\n",
       "<caption>Logit Regression Results</caption>\n",
       "<tr>\n",
       "  <th>Dep. Variable:</th>          <td>cmv</td>       <th>  No. Observations:  </th>  <td>   128</td> \n",
       "</tr>\n",
       "<tr>\n",
       "  <th>Model:</th>                 <td>Logit</td>      <th>  Df Residuals:      </th>  <td>   125</td> \n",
       "</tr>\n",
       "<tr>\n",
       "  <th>Method:</th>                 <td>MLE</td>       <th>  Df Model:          </th>  <td>     2</td> \n",
       "</tr>\n",
       "<tr>\n",
       "  <th>Date:</th>            <td>Mon, 06 Jun 2022</td> <th>  Pseudo R-squ.:     </th> <td>0.004485</td>\n",
       "</tr>\n",
       "<tr>\n",
       "  <th>Time:</th>                <td>17:11:34</td>     <th>  Log-Likelihood:    </th> <td> -86.072</td>\n",
       "</tr>\n",
       "<tr>\n",
       "  <th>converged:</th>             <td>True</td>       <th>  LL-Null:           </th> <td> -86.459</td>\n",
       "</tr>\n",
       "<tr>\n",
       "  <th>Covariance Type:</th>     <td>nonrobust</td>    <th>  LLR p-value:       </th>  <td>0.6786</td> \n",
       "</tr>\n",
       "</table>\n",
       "<table class=\"simpletable\">\n",
       "<tr>\n",
       "                 <td></td>                   <th>coef</th>     <th>std err</th>      <th>z</th>      <th>P>|z|</th>  <th>[0.025</th>    <th>0.975]</th>  \n",
       "</tr>\n",
       "<tr>\n",
       "  <th>Intercept</th>                      <td>   -1.2863</td> <td>    1.072</td> <td>   -1.200</td> <td> 0.230</td> <td>   -3.387</td> <td>    0.814</td>\n",
       "</tr>\n",
       "<tr>\n",
       "  <th>donor_status[T.donor_positive]</th> <td> 1.433e-16</td> <td>    0.361</td> <td> 3.97e-16</td> <td> 1.000</td> <td>   -0.708</td> <td>    0.708</td>\n",
       "</tr>\n",
       "<tr>\n",
       "  <th>age</th>                            <td>    0.0172</td> <td>    0.020</td> <td>    0.874</td> <td> 0.382</td> <td>   -0.021</td> <td>    0.056</td>\n",
       "</tr>\n",
       "</table>"
      ],
      "text/plain": [
       "<class 'statsmodels.iolib.summary.Summary'>\n",
       "\"\"\"\n",
       "                           Logit Regression Results                           \n",
       "==============================================================================\n",
       "Dep. Variable:                    cmv   No. Observations:                  128\n",
       "Model:                          Logit   Df Residuals:                      125\n",
       "Method:                           MLE   Df Model:                            2\n",
       "Date:                Mon, 06 Jun 2022   Pseudo R-squ.:                0.004485\n",
       "Time:                        17:11:34   Log-Likelihood:                -86.072\n",
       "converged:                       True   LL-Null:                       -86.459\n",
       "Covariance Type:            nonrobust   LLR p-value:                    0.6786\n",
       "==================================================================================================\n",
       "                                     coef    std err          z      P>|z|      [0.025      0.975]\n",
       "--------------------------------------------------------------------------------------------------\n",
       "Intercept                         -1.2863      1.072     -1.200      0.230      -3.387       0.814\n",
       "donor_status[T.donor_positive]  1.433e-16      0.361   3.97e-16      1.000      -0.708       0.708\n",
       "age                                0.0172      0.020      0.874      0.382      -0.021       0.056\n",
       "==================================================================================================\n",
       "\"\"\""
      ]
     },
     "execution_count": 13,
     "metadata": {},
     "output_type": "execute_result"
    }
   ],
   "source": [
    "mod.summary()"
   ]
  },
  {
   "cell_type": "code",
   "execution_count": null,
   "id": "606ff1a5-9749-48e8-a926-1255e7c3563c",
   "metadata": {},
   "outputs": [],
   "source": []
  }
 ],
 "metadata": {
  "kernelspec": {
   "display_name": "Python 3 (ipykernel)",
   "language": "python",
   "name": "python3"
  },
  "language_info": {
   "codemirror_mode": {
    "name": "ipython",
    "version": 3
   },
   "file_extension": ".py",
   "mimetype": "text/x-python",
   "name": "python",
   "nbconvert_exporter": "python",
   "pygments_lexer": "ipython3",
   "version": "3.7.12"
  }
 },
 "nbformat": 4,
 "nbformat_minor": 5
}
