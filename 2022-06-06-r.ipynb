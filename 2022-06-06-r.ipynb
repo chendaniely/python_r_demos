{
 "cells": [
  {
   "cell_type": "code",
   "execution_count": 1,
   "id": "148e9025-db0f-49c4-9b35-cb8c5566ed94",
   "metadata": {},
   "outputs": [
    {
     "name": "stderr",
     "output_type": "stream",
     "text": [
      "── \u001b[1mAttaching packages\u001b[22m ─────────────────────────────────────── tidyverse 1.3.0 ──\n",
      "\n",
      "\u001b[32m✔\u001b[39m \u001b[34mggplot2\u001b[39m 3.3.2     \u001b[32m✔\u001b[39m \u001b[34mpurrr  \u001b[39m 0.3.4\n",
      "\u001b[32m✔\u001b[39m \u001b[34mtibble \u001b[39m 3.0.4     \u001b[32m✔\u001b[39m \u001b[34mdplyr  \u001b[39m 1.0.2\n",
      "\u001b[32m✔\u001b[39m \u001b[34mtidyr  \u001b[39m 1.1.2     \u001b[32m✔\u001b[39m \u001b[34mstringr\u001b[39m 1.4.0\n",
      "\u001b[32m✔\u001b[39m \u001b[34mreadr  \u001b[39m 1.4.0     \u001b[32m✔\u001b[39m \u001b[34mforcats\u001b[39m 0.5.0\n",
      "\n",
      "── \u001b[1mConflicts\u001b[22m ────────────────────────────────────────── tidyverse_conflicts() ──\n",
      "\u001b[31m✖\u001b[39m \u001b[34mdplyr\u001b[39m::\u001b[32mfilter()\u001b[39m masks \u001b[34mstats\u001b[39m::filter()\n",
      "\u001b[31m✖\u001b[39m \u001b[34mdplyr\u001b[39m::\u001b[32mlag()\u001b[39m    masks \u001b[34mstats\u001b[39m::lag()\n",
      "\n"
     ]
    }
   ],
   "source": [
    "library(tidyverse)"
   ]
  },
  {
   "cell_type": "code",
   "execution_count": 2,
   "id": "4717aefc-067d-4563-8799-c7308dbe9c73",
   "metadata": {},
   "outputs": [],
   "source": [
    "library(readxl)"
   ]
  },
  {
   "cell_type": "code",
   "execution_count": 4,
   "id": "80c29aef-8d55-4c47-bd7b-726c7a24ed47",
   "metadata": {},
   "outputs": [],
   "source": [
    "library(tidyverse)\n",
    "library(readxl)\n",
    "\n",
    "cmv <- readxl::read_excel(\"data/cmv.xlsx\")\n",
    "\n",
    "cmv_tidy <- tidyr::pivot_longer(cmv,\n",
    "                    donor_negative:donor_positive,\n",
    "                    names_to = \"donor_status\",\n",
    "                    values_to = \"recipient_status\"\n",
    "                    )"
   ]
  },
  {
   "cell_type": "code",
   "execution_count": 5,
   "id": "fd32bd5c-255d-4bb0-be0f-bc8e371f4d7c",
   "metadata": {},
   "outputs": [
    {
     "name": "stderr",
     "output_type": "stream",
     "text": [
      "`stat_bin()` using `bins = 30`. Pick better value with `binwidth`.\n",
      "\n"
     ]
    },
    {
     "data": {
      "image/png": "[encoded data removed]",
      "text/plain": [
       "plot without title"
      ]
     },
     "metadata": {
      "image/png": {
       "height": 420,
       "width": 420
      },
      "text/plain": {
       "height": 420,
       "width": 420
      }
     },
     "output_type": "display_data"
    }
   ],
   "source": [
    "ggplot(cmv_tidy, aes(x = age)) + geom_histogram()"
   ]
  },
  {
   "cell_type": "code",
   "execution_count": 6,
   "id": "0bfaa683-6552-48ed-9690-f31b974b0546",
   "metadata": {},
   "outputs": [],
   "source": [
    "mod <- glm(cmv ~ age + prior.radiation + donor_status,\n",
    "           data = cmv_tidy, family = \"binomial\")"
   ]
  },
  {
   "cell_type": "code",
   "execution_count": 7,
   "id": "b6c3cdea-aab4-4648-8e17-796382cb6501",
   "metadata": {},
   "outputs": [
    {
     "data": {
      "text/plain": [
       "\n",
       "Call:\n",
       "glm(formula = cmv ~ age + prior.radiation + donor_status, family = \"binomial\", \n",
       "    data = cmv_tidy)\n",
       "\n",
       "Deviance Residuals: \n",
       "    Min       1Q   Median       3Q      Max  \n",
       "-1.1074  -1.0688  -0.8244   1.2825   1.6348  \n",
       "\n",
       "Coefficients:\n",
       "                             Estimate Std. Error z value Pr(>|z|)\n",
       "(Intercept)                -6.809e-01  1.186e+00  -0.574    0.566\n",
       "age                         7.669e-03  2.133e-02   0.360    0.719\n",
       "prior.radiation            -6.420e-01  5.553e-01  -1.156    0.248\n",
       "donor_statusdonor_positive  2.015e-16  3.629e-01   0.000    1.000\n",
       "\n",
       "(Dispersion parameter for binomial family taken to be 1)\n",
       "\n",
       "    Null deviance: 172.92  on 127  degrees of freedom\n",
       "Residual deviance: 170.74  on 124  degrees of freedom\n",
       "AIC: 178.74\n",
       "\n",
       "Number of Fisher Scoring iterations: 4\n"
      ]
     },
     "metadata": {},
     "output_type": "display_data"
    }
   ],
   "source": [
    "summary(mod)"
   ]
  },
  {
   "cell_type": "code",
   "execution_count": null,
   "id": "3b38358b-0b08-46cd-a169-686ef4b63e11",
   "metadata": {},
   "outputs": [],
   "source": []
  }
 ],
 "metadata": {
  "kernelspec": {
   "display_name": "R",
   "language": "R",
   "name": "ir"
  },
  "language_info": {
   "codemirror_mode": "r",
   "file_extension": ".r",
   "mimetype": "text/x-r-source",
   "name": "R",
   "pygments_lexer": "r",
   "version": "3.6.3"
  }
 },
 "nbformat": 4,
 "nbformat_minor": 5
}
